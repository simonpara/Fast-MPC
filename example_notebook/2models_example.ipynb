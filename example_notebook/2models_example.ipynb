{
 "cells": [
  {
   "cell_type": "code",
   "execution_count": null,
   "metadata": {},
   "outputs": [],
   "source": [
    "# Required packages\n",
    "import numpy as np\n",
    "import FastMPC as fmpc\n",
    "\n",
    "# These packages are only useful reproducing paper's plot, or making your own ones\n",
    "import getdist\n",
    "import matplotlib.pyplot as plt\n",
    "from matplotlib import cm"
   ]
  },
  {
   "cell_type": "code",
   "execution_count": null,
   "metadata": {},
   "outputs": [],
   "source": [
    "chain_dir = 'your/chain/folder'\n",
    "image_dir = 'output/image/dir'\n",
    "data_dir  = 'data/output/dir'\n",
    "\n",
    "roots = ['model1_sample_root', 'model2_sample_root']\n",
    "\n",
    "burnin = [0.3,0.3]\n",
    "models = ['model1', 'model2']\n",
    "temperature = {'model1':1, 'model2':1}\n",
    "model_prior = {'model1':0.5, 'model2':0.5}"
   ]
  },
  {
   "cell_type": "code",
   "execution_count": null,
   "metadata": {},
   "outputs": [],
   "source": [
    "# Running the post-processing\n",
    "# This is a self-contained function which reads chains in memory from all the model runs, computes the model posterior probability\n",
    "# and returns a dictionary containing the collapsed chains re-weighted accordingly.\n",
    "out = fmpc.run(roots=roots, models=models, chainDir=chain_dir, burnin=burnin, priors=model_prior, temperature=temperature)"
   ]
  },
  {
   "cell_type": "code",
   "execution_count": null,
   "metadata": {},
   "outputs": [],
   "source": [
    "# Computing the prior dependancy of the considered models.\n",
    "# - dataDir indicates where to save the table with all the model probabilities (plot table)\n",
    "# All the function details are in FastMPC.py\n",
    "legend_labels={'model1': 'model 1', 'model2': 'model 2'}\n",
    "prior_dep_out = fmpc.prior_dependence(model_likelihoods=out['model_liks'],\n",
    "                                      leg_labs=legend_labels, subtitle=\"\",\n",
    "                                      saveFig=True, imgDir=image_dir, figName='figuire_name',\n",
    "                                      showFig=True, dataDir=data_dir)"
   ]
  },
  {
   "cell_type": "code",
   "execution_count": null,
   "metadata": {},
   "outputs": [],
   "source": [
    "# Computing the Gelman-Rubin R-1 convergency statistics:\n",
    "# - nmax selects whether you want to use the full chains' length (either =1 or 'all'), or a fraction of the full length\n",
    "# - out_var=True allows to return also W and B\n",
    "# All the function details are in FastMPC.py\n",
    "res, Rminus1, W, B = fmpc.GRstat_Harmonic_check(roots=roots, models=models, chainDir=chain_dir, \n",
    "                                                burnin=burnin, temperature=temperature, \n",
    "                                                prior=model_prior, out_var=True, nmax='all')"
   ]
  }
 ],
 "metadata": {
  "kernelspec": {
   "display_name": "cosmology",
   "language": "python",
   "name": "cosmology"
  },
  "language_info": {
   "name": "python",
   "version": "3.10.11"
  },
  "orig_nbformat": 4
 },
 "nbformat": 4,
 "nbformat_minor": 2
}
